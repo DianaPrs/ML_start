{
 "cells": [
  {
   "cell_type": "markdown",
   "id": "976aed83",
   "metadata": {},
   "source": [
    "## Numpy homework"
   ]
  },
  {
   "cell_type": "markdown",
   "metadata": {},
   "source": [
    "Numpy - a very convenient and fast library that provides the ability to perform various operations on arrays and matrices. In machine learning many data operations can be represented as linear algebra operations. This is why studying this library is very important."
   ]
  },
  {
   "cell_type": "markdown",
   "id": "adaf47af",
   "metadata": {},
   "source": [
    "1. Import numpy"
   ]
  },
  {
   "cell_type": "code",
   "execution_count": 15,
   "id": "9b1766f4",
   "metadata": {},
   "outputs": [
    {
     "data": {
      "text/plain": [
       "array(['WA', '24', 'CA', 'NH', '564'], dtype='<U11')"
      ]
     },
     "execution_count": 15,
     "metadata": {},
     "output_type": "execute_result"
    }
   ],
   "source": [
    "import numpy as np\n",
    "array1 = [ 'WA' , 24, 'CA', 'NH', 564]\n",
    "array2 = np.array(array1)\n",
    "array2"
   ]
  },
  {
   "cell_type": "code",
   "execution_count": 13,
   "id": "c14f047d",
   "metadata": {},
   "outputs": [
    {
     "data": {
      "text/plain": [
       "array([[0., 0., 0., 0., 0., 0.],\n",
       "       [0., 0., 0., 0., 0., 0.],\n",
       "       [0., 0., 0., 0., 0., 0.],\n",
       "       [0., 0., 0., 0., 0., 0.],\n",
       "       [0., 0., 0., 0., 0., 0.]])"
      ]
     },
     "execution_count": 13,
     "metadata": {},
     "output_type": "execute_result"
    }
   ],
   "source": [
    "array = np.zeros((5,6))\n",
    "array"
   ]
  },
  {
   "cell_type": "markdown",
   "id": "c76e7370",
   "metadata": {},
   "source": [
    "2. Create a 10x10 array with random values and find the minimum and maximum values"
   ]
  },
  {
   "cell_type": "code",
   "execution_count": null,
   "id": "0aec0036",
   "metadata": {},
   "outputs": [],
   "source": [
    "a = \n",
    "print(f\"Minimum: {a.min()}, maximum: {a.max()}\")"
   ]
  },
  {
   "cell_type": "markdown",
   "id": "68a78d53",
   "metadata": {},
   "source": [
    "3. Get info about array:\n",
    "    - the dimension number of the array\n",
    "    - the dimension of the array\n",
    "    - the number of all elements in the array\n",
    "    - the type of the element in the array\n",
    "    - the size of each element in the array"
   ]
  },
  {
   "cell_type": "code",
   "execution_count": null,
   "id": "e3bdbe45",
   "metadata": {},
   "outputs": [],
   "source": [
    "print(f\"Array has dim {}, shape {}, size {}, and dtype {}:\")"
   ]
  },
  {
   "cell_type": "markdown",
   "id": "415c771a",
   "metadata": {},
   "source": [
    "4. Create array with range from 1 to 20 with 7 elements and iverse it"
   ]
  },
  {
   "cell_type": "code",
   "execution_count": null,
   "id": "63996b4e",
   "metadata": {},
   "outputs": [],
   "source": [
    "arr = "
   ]
  },
  {
   "cell_type": "markdown",
   "id": "ac086444",
   "metadata": {},
   "source": [
    "5. Find the nearest element in the array to the number (number = 27)"
   ]
  },
  {
   "cell_type": "code",
   "execution_count": null,
   "id": "5c73ccd8",
   "metadata": {},
   "outputs": [],
   "source": [
    "n = 27\n"
   ]
  },
  {
   "cell_type": "markdown",
   "id": "431c8ce5",
   "metadata": {},
   "source": [
    "6. Create a null vector of size 10 but the fifth value which is 1 "
   ]
  },
  {
   "cell_type": "code",
   "execution_count": null,
   "id": "c028dd3a",
   "metadata": {},
   "outputs": [],
   "source": []
  },
  {
   "cell_type": "markdown",
   "id": "bf895b67",
   "metadata": {},
   "source": [
    "7. How to swap two rows of an array?"
   ]
  },
  {
   "cell_type": "code",
   "execution_count": null,
   "id": "47a3fd71",
   "metadata": {},
   "outputs": [],
   "source": []
  },
  {
   "cell_type": "markdown",
   "id": "2616cb2e",
   "metadata": {},
   "source": [
    "8. Create two 5X5 random integer matrix a and b. Transpose one of them and multiply them"
   ]
  },
  {
   "cell_type": "code",
   "execution_count": null,
   "id": "fd99691a",
   "metadata": {},
   "outputs": [],
   "source": []
  },
  {
   "cell_type": "markdown",
   "id": "d6f50571",
   "metadata": {},
   "source": [
    "9. Create following:\n",
    "    - zero_line: an array with a row containing three 0\n",
    "    - one_column: an array with a column containing three 1\n",
    "    - a: a matrix with 2 rows and 3 columns\n",
    "    - b: an integer array in the interval of [11,20]"
   ]
  },
  {
   "cell_type": "code",
   "execution_count": null,
   "id": "552e1c70",
   "metadata": {},
   "outputs": [],
   "source": []
  },
  {
   "cell_type": "markdown",
   "id": "a95b9603",
   "metadata": {},
   "source": [
    "10. Resize array b into a matrix of 3 rows and 3 columns by the reshape method"
   ]
  },
  {
   "cell_type": "code",
   "execution_count": null,
   "id": "306ceee8",
   "metadata": {},
   "outputs": [],
   "source": []
  },
  {
   "cell_type": "markdown",
   "id": "d31d621a",
   "metadata": {},
   "source": [
    "11. Vertically stack together a,b and zero_line"
   ]
  },
  {
   "cell_type": "code",
   "execution_count": null,
   "id": "b2377f1e",
   "metadata": {},
   "outputs": [],
   "source": []
  },
  {
   "cell_type": "markdown",
   "id": "d2f43304",
   "metadata": {},
   "source": [
    "12. Reshape array a and horizontally stack it with b and one_column"
   ]
  },
  {
   "cell_type": "code",
   "execution_count": null,
   "id": "83e3ee3d",
   "metadata": {},
   "outputs": [],
   "source": []
  }
 ],
 "metadata": {
  "kernelspec": {
   "display_name": "Python 3 (ipykernel)",
   "language": "python",
   "name": "python3"
  },
  "language_info": {
   "codemirror_mode": {
    "name": "ipython",
    "version": 3
   },
   "file_extension": ".py",
   "mimetype": "text/x-python",
   "name": "python",
   "nbconvert_exporter": "python",
   "pygments_lexer": "ipython3",
   "version": "3.10.11"
  }
 },
 "nbformat": 4,
 "nbformat_minor": 5
}
