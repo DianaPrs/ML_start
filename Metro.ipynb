{
 "cells": [
  {
   "cell_type": "code",
   "execution_count": 1,
   "metadata": {},
   "outputs": [],
   "source": [
    "import pandas as pd"
   ]
  },
  {
   "cell_type": "code",
   "execution_count": 3,
   "metadata": {},
   "outputs": [],
   "source": [
    "stations = pd.read_excel(\"metro.xlsx\", encoding = \"cp1251\", sep = \";\")"
   ]
  },
  {
   "cell_type": "code",
   "execution_count": 14,
   "metadata": {},
   "outputs": [
    {
     "data": {
      "text/html": [
       "<div>\n",
       "<style scoped>\n",
       "    .dataframe tbody tr th:only-of-type {\n",
       "        vertical-align: middle;\n",
       "    }\n",
       "\n",
       "    .dataframe tbody tr th {\n",
       "        vertical-align: top;\n",
       "    }\n",
       "\n",
       "    .dataframe thead th {\n",
       "        text-align: right;\n",
       "    }\n",
       "</style>\n",
       "<table border=\"1\" class=\"dataframe\">\n",
       "  <thead>\n",
       "    <tr style=\"text-align: right;\">\n",
       "      <th></th>\n",
       "      <th>ID</th>\n",
       "      <th>Name</th>\n",
       "      <th>Longitude_WGS84</th>\n",
       "      <th>Latitude_WGS84</th>\n",
       "      <th>NameOfStation</th>\n",
       "      <th>Line</th>\n",
       "      <th>ModeOnEvenDays</th>\n",
       "      <th>ModeOnOddDays</th>\n",
       "      <th>FullFeaturedBPAAmount</th>\n",
       "      <th>LittleFunctionalBPAAmount</th>\n",
       "      <th>BPAAmount</th>\n",
       "      <th>RepairOfEscalators</th>\n",
       "      <th>global_id</th>\n",
       "      <th>geoData</th>\n",
       "    </tr>\n",
       "  </thead>\n",
       "  <tbody>\n",
       "    <tr>\n",
       "      <td>0</td>\n",
       "      <td>326</td>\n",
       "      <td>Китай-город, вход-выход 3 в северный вестибюль</td>\n",
       "      <td>37.630985</td>\n",
       "      <td>55.756767</td>\n",
       "      <td>Китай-город</td>\n",
       "      <td>Калужско-Рижская линия</td>\n",
       "      <td>открытие в 05:30:00; закрытие в 01:00:00; перв...</td>\n",
       "      <td>открытие в 05:30:00; закрытие в 01:00:00; перв...</td>\n",
       "      <td>NaN</td>\n",
       "      <td>4.0</td>\n",
       "      <td>4.0</td>\n",
       "      <td>NaN</td>\n",
       "      <td>1773538</td>\n",
       "      <td>{type=Point, coordinates=[37.6309849, 55.75676...</td>\n",
       "    </tr>\n",
       "  </tbody>\n",
       "</table>\n",
       "</div>"
      ],
      "text/plain": [
       "    ID                                            Name  Longitude_WGS84  \\\n",
       "0  326  Китай-город, вход-выход 3 в северный вестибюль        37.630985   \n",
       "\n",
       "   Latitude_WGS84 NameOfStation                    Line  \\\n",
       "0       55.756767   Китай-город  Калужско-Рижская линия   \n",
       "\n",
       "                                      ModeOnEvenDays  \\\n",
       "0  открытие в 05:30:00; закрытие в 01:00:00; перв...   \n",
       "\n",
       "                                       ModeOnOddDays  FullFeaturedBPAAmount  \\\n",
       "0  открытие в 05:30:00; закрытие в 01:00:00; перв...                    NaN   \n",
       "\n",
       "   LittleFunctionalBPAAmount  BPAAmount RepairOfEscalators  global_id  \\\n",
       "0                        4.0        4.0                NaN    1773538   \n",
       "\n",
       "                                             geoData  \n",
       "0  {type=Point, coordinates=[37.6309849, 55.75676...  "
      ]
     },
     "execution_count": 14,
     "metadata": {},
     "output_type": "execute_result"
    }
   ],
   "source": [
    "stations.head(1)"
   ]
  },
  {
   "cell_type": "code",
   "execution_count": 10,
   "metadata": {},
   "outputs": [],
   "source": [
    "stations_count = stations.groupby([\"NameOfStation\"]).size()"
   ]
  },
  {
   "cell_type": "code",
   "execution_count": 8,
   "metadata": {},
   "outputs": [
    {
     "data": {
      "text/plain": [
       "NameOfStation\n",
       "Комсомольская             15\n",
       "Китай-город               15\n",
       "Преображенская площадь    13\n",
       "Пражская                  12\n",
       "Охотный ряд               12\n",
       "                          ..\n",
       "Фрунзенская                1\n",
       "Красносельская             1\n",
       "Студенческая               1\n",
       "Крестьянская застава       1\n",
       "Хорошёво                   1\n",
       "Length: 235, dtype: int64"
      ]
     },
     "execution_count": 8,
     "metadata": {},
     "output_type": "execute_result"
    }
   ],
   "source": [
    "stations_count.sort_values(ascending=False)"
   ]
  },
  {
   "cell_type": "code",
   "execution_count": 12,
   "metadata": {},
   "outputs": [
    {
     "data": {
      "text/plain": [
       "NameOfStation  RepairOfEscalators   \n",
       "Авиамоторная   31.10.2019-29.11.2019    9\n",
       "Арбатская      10.09.2019-29.11.2019    1\n",
       "Белорусская    31.10.2019-29.11.2019    2\n",
       "Киевская       31.10.2019-29.11.2019    3\n",
       "Маяковская     13.11.2019-30.12.2019    2\n",
       "Международная  05.11.2019-13.12.2019    1\n",
       "Октябрьская    31.10.2019-29.11.2019    2\n",
       "Орехово        24.10.2019-31.10.2019    1\n",
       "Пражская       18.11.2019-31.12.2019    3\n",
       "Селигерская    07.09.2019-04.11.2019    3\n",
       "Таганская      31.07.2019-23.08.2019    2\n",
       "ЦСКА           25.02.2019-24.05.2019    1\n",
       "Царицыно       18.11.2019-31.12.2019    3\n",
       "dtype: int64"
      ]
     },
     "execution_count": 12,
     "metadata": {},
     "output_type": "execute_result"
    }
   ],
   "source": [
    "escalators_stat = stations.groupby([\"NameOfStation\",\"RepairOfEscalators\"]).size()\n",
    "escalators_stat"
   ]
  },
  {
   "cell_type": "code",
   "execution_count": null,
   "metadata": {},
   "outputs": [],
   "source": []
  }
 ],
 "metadata": {
  "kernelspec": {
   "display_name": "Python 3",
   "language": "python",
   "name": "python3"
  },
  "language_info": {
   "codemirror_mode": {
    "name": "ipython",
    "version": 3
   },
   "file_extension": ".py",
   "mimetype": "text/x-python",
   "name": "python",
   "nbconvert_exporter": "python",
   "pygments_lexer": "ipython3",
   "version": "3.7.3"
  }
 },
 "nbformat": 4,
 "nbformat_minor": 2
}
