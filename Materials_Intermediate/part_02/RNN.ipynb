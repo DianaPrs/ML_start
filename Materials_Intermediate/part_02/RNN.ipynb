{
 "cells": [
  {
   "cell_type": "markdown",
   "metadata": {},
   "source": [
    "![rnn.png](rnn.png)"
   ]
  },
  {
   "cell_type": "markdown",
   "metadata": {},
   "source": [
    "### recurrent neural network \n",
    "- without math https://www.youtube.com/watch?v=LHXXI4-IEns\n",
    "- with math https://www.youtube.com/watch?v=ySEx_Bqxvvo"
   ]
  },
  {
   "cell_type": "markdown",
   "metadata": {},
   "source": [
    "\n",
    "RNN - 1986 year\n",
    "\n",
    "\n",
    "LSTM - 1997 year\n",
    "\n",
    "\n",
    "Transformers - 2017 year"
   ]
  }
 ],
 "metadata": {
  "language_info": {
   "name": "python"
  }
 },
 "nbformat": 4,
 "nbformat_minor": 2
}
