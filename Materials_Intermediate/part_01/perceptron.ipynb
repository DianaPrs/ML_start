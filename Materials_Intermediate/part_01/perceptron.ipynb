{
 "cells": [
  {
   "cell_type": "code",
   "execution_count": null,
   "metadata": {},
   "outputs": [],
   "source": [
    "# example code from blog post https://www.sharpsightlabs.com/blog/python-perceptron-from-scratch/\n",
    "\n",
    "\n",
    "import numpy as np\n",
    "\n",
    "class Perceptron():\n",
    "    def __init__(self, learning_rate = .01, n_iterations = 1000) -> None:\n",
    "        self.learning_rate = learning_rate\n",
    "        self.n_iterations = n_iterations\n",
    "        self.bias: np.ndarray = None\n",
    "        self.weights: np.ndarray = None\n",
    "\n",
    "    def _update_weights(self, example_features: list, y_actual: int, y_predicted: int) -> None:\n",
    "        #print(f\"{y_actual} - {y_predicted}\")\n",
    "        error = y_actual - y_predicted\n",
    "        weight_correction = self.learning_rate * error\n",
    "        self.weights = self.weights + weight_correction * example_features\n",
    "        self.bias = self.bias + weight_correction\n",
    "\n",
    "    def activation_function(self, net_input: float) -> None:\n",
    "        # STEP ACTIVATION\n",
    "        return np.where(net_input > 0, 1, 0)\n",
    "\n",
    "    # features will be a 2 dimensional Numpy array that contains the features of our training set (X_train values).\n",
    "    # the targets input will be 1 dimensional Numpy array, y values that we use during training (y_train values).\n",
    "    def fit(self, features: np.ndarray, targets: list) -> None:\n",
    "        n_examples, n_features = features.shape\n",
    "            \n",
    "        # possibly change these\n",
    "        self.weights = np.random.uniform(size = n_features, low = -0.5, high = 0.5)\n",
    "        self.bias = np.random.uniform(low = -0.5, high = 0.5)\n",
    "        \n",
    "        for _ in range(self.n_iterations):\n",
    "            for example_index, example_features in enumerate(features):\n",
    "                net_input = np.dot(example_features, self.weights) + self.bias\n",
    "                y_predicted = self.activation_function(net_input)\n",
    "                self._update_weights(example_features, targets[example_index], y_predicted)\n",
    "                \n",
    "    # takes new data from the features array as an input. When we call the method, this input data is commonly called X_test.\n",
    "    def predict(self, features: np.ndarray) -> np.ndarray:\n",
    "        net_input = np.dot(features, self.weights) + self.bias\n",
    "        y_predicted = self.activation_function(net_input)\n",
    "        return y_predicted\n"
   ]
  },
  {
   "cell_type": "code",
   "execution_count": null,
   "metadata": {},
   "outputs": [],
   "source": [
    "perc = Perceptron()\n",
    "perc.fit(array_2d, labels)\n",
    "perc.predict(random_2d)"
   ]
  },
  {
   "cell_type": "code",
   "execution_count": 46,
   "metadata": {},
   "outputs": [
    {
     "data": {
      "text/plain": [
       "array([0, 0, 1, 1])"
      ]
     },
     "execution_count": 46,
     "metadata": {},
     "output_type": "execute_result"
    }
   ],
   "source": [
    "random_2d = np.random.randint(1, 10, (4, 3))\n",
    "perc.predict(random_2d)"
   ]
  },
  {
   "cell_type": "code",
   "execution_count": 48,
   "metadata": {},
   "outputs": [
    {
     "data": {
      "text/plain": [
       "array([[1, 8, 8],\n",
       "       [9, 1, 9],\n",
       "       [4, 7, 2],\n",
       "       [8, 1, 7]])"
      ]
     },
     "execution_count": 48,
     "metadata": {},
     "output_type": "execute_result"
    }
   ],
   "source": [
    "random_2d"
   ]
  },
  {
   "cell_type": "code",
   "execution_count": 4,
   "metadata": {},
   "outputs": [],
   "source": [
    "x = np.random.uniform(size = 5, low = -0.5, high = 0.5)"
   ]
  },
  {
   "cell_type": "code",
   "execution_count": 49,
   "metadata": {},
   "outputs": [
    {
     "name": "stdout",
     "output_type": "stream",
     "text": [
      "0 [1 2 3]\n",
      "1 [4 5 6]\n",
      "2 [7 8 9]\n",
      "3 [5 6 7]\n"
     ]
    }
   ],
   "source": [
    "array_2d = np.array([[1, 2, 3], [4, 5, 6], [7, 8, 9], [5,6,7]])\n",
    "labels = [0, 0, 1, 1]\n",
    "for example_index, example_features in enumerate(array_2d):\n",
    "    print(example_index, example_features)"
   ]
  },
  {
   "cell_type": "code",
   "execution_count": null,
   "metadata": {},
   "outputs": [],
   "source": [
    "array_2d = np.random.randn(3, 3)\n",
    "array_2d = np.random.randint(1, 10, (3, 3))\n",
    "print(array_2d)"
   ]
  }
 ],
 "metadata": {
  "kernelspec": {
   "display_name": "py38",
   "language": "python",
   "name": "python3"
  },
  "language_info": {
   "codemirror_mode": {
    "name": "ipython",
    "version": 3
   },
   "file_extension": ".py",
   "mimetype": "text/x-python",
   "name": "python",
   "nbconvert_exporter": "python",
   "pygments_lexer": "ipython3",
   "version": "3.8.19"
  }
 },
 "nbformat": 4,
 "nbformat_minor": 2
}
