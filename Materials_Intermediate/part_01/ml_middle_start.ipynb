{
 "cells": [
  {
   "cell_type": "markdown",
   "metadata": {},
   "source": [
    "![regression.png](regression.png)\n",
    "\n",
    "Sketchnote by Tomomi Imura\n",
    "Original https://github.com/microsoft/ML-For-Beginners/blob/main/sketchnotes/ml-regression.png"
   ]
  },
  {
   "cell_type": "markdown",
   "metadata": {},
   "source": [
    "#### \"Machine Learning for Beginners\" playlist - Express course to regression models from Microsoft presented by Bea Stollnitz / short but dense videos with engaging examples and inspirational presentation / - https://www.youtube.com/watch?v=6mSx_KJxcHI&list=PLlrxD0HtieHjNnGcZ1TWzPjKYWgfXSiWG&index=1"
   ]
  },
  {
   "cell_type": "markdown",
   "metadata": {},
   "source": [
    "#### Main topics covered in course:\n",
    "\n",
    "✅ Deciding if AI is the right approach for your problem \\\n",
    "✅ Collecting and preparing your data (clean, split, analyze) \\\n",
    "✅ Features transformation (basic) \\\n",
    "✅ Model training and evaluation (for classical ML) \\\n",
    "✅ Visualization"
   ]
  },
  {
   "cell_type": "markdown",
   "metadata": {},
   "source": [
    "### Introduction to Neural Networks"
   ]
  },
  {
   "cell_type": "markdown",
   "metadata": {},
   "source": [
    "Understanding why we use Neural Networks: When Linear and Logistic Regression Fall Short: https://www.youtube.com/watch?v=_CBvYAMJD2E"
   ]
  },
  {
   "cell_type": "markdown",
   "metadata": {},
   "source": [
    "* Perceptron Model (Single-layer perceptron)"
   ]
  },
  {
   "cell_type": "markdown",
   "metadata": {},
   "source": [
    "![perceptron.png](perceptron.png)"
   ]
  },
  {
   "cell_type": "markdown",
   "metadata": {},
   "source": [
    "https://www.sharpsightlabs.com/blog/python-perceptron-from-scratch/"
   ]
  },
  {
   "cell_type": "markdown",
   "metadata": {},
   "source": [
    "## What is a Perceptron?\n",
    "A perceptron is a type of artificial neural network. It's one of the simplest models used in machine learning and is the basis for more complex neural networks. Its job is to take input data, process it, and give an output.\n",
    "\n",
    "Think of the perceptron like a decision-making process that decides whether something belongs to one category or another based on the features of that thing.\n",
    "\n",
    "## How Does the Perceptron Work?\n",
    "\n",
    "Imagine you're trying to classify a set of objects (like fruits) into two categories: apples and oranges. The perceptron will use certain features (such as color or size) of the fruits to help make the decision. You can think of these as the data you feed into the perceptron.\n",
    "\n",
    "Weights: The perceptron assigns a weight to each feature. A weight is just a number that tells the perceptron how important that feature is. For example, if size is more important than color when deciding whether it's an apple or an orange, the weight for size will be bigger.\n",
    "\n",
    "Decision rule: The perceptron then decides whether to classify the object as an apple or an orange based on this number:\n",
    "\n",
    "If the activation value is above a certain threshold, the perceptron might say \"apple.\"\n",
    "If it’s below the threshold, it might say \"orange.\"\n",
    "\n",
    "Threshold: The perceptron will have a threshold value (let’s say 1). If the result of the sum is greater than this threshold, it will classify the fruit as an apple (1). If it's lower, it will classify it as an orange (0).\n",
    "\n",
    "## How Does the Perceptron Learn?\n",
    "\n",
    "In the beginning, the perceptron doesn’t know the right weights (how important each feature is). So, it starts with **random weights**. Then, it uses training data (known examples of apples and oranges) to adjust those weights.\n",
    "\n",
    "If the perceptron makes an incorrect classification (for example, it thinks an orange is an apple), it will adjust the weights slightly to make it more likely to get the right answer next time. This adjustment process happens over and over for many examples until the perceptron becomes good at classifying new fruits.\n",
    "\n",
    "Steps in the Perceptron Algorithm:\n",
    "- Initialize the weights randomly.\n",
    "- Compute the weighted sum (activation value).\n",
    "- Apply the decision rule to classify the input (apple or orange).\n",
    "- If the classification is wrong, adjust the weights to improve.\n",
    "Repeat the process for many training examples until the perceptron gets the classification right most of the time.\n",
    "\n",
    "## Why is the Perceptron Useful?\n",
    "\n",
    "The perceptron is the building block for more complex neural networks.\n",
    "While the perceptron is simple and works best for linearly separable data (data that can be divided by a straight line), it’s still important in understanding how machine learning algorithms learn from data.\n"
   ]
  },
  {
   "cell_type": "markdown",
   "metadata": {},
   "source": []
  }
 ],
 "metadata": {
  "language_info": {
   "name": "python"
  }
 },
 "nbformat": 4,
 "nbformat_minor": 2
}
