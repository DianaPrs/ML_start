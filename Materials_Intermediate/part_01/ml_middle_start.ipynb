{
 "cells": [
  {
   "cell_type": "markdown",
   "metadata": {},
   "source": [
    "![Alt text](https://github.com/microsoft/ML-For-Beginners/blob/main/sketchnotes/ml-regression.png)"
   ]
  },
  {
   "cell_type": "markdown",
   "metadata": {},
   "source": [
    "#### \"Machine Learning for Beginners\" playlist - Express course to regression models from Microsoft presented by Bea Stollnitz / short but dense videos with engaging examples and inspirational presentation / - https://www.youtube.com/watch?v=6mSx_KJxcHI&list=PLlrxD0HtieHjNnGcZ1TWzPjKYWgfXSiWG&index=1"
   ]
  },
  {
   "cell_type": "markdown",
   "metadata": {},
   "source": [
    "#### Main topics covered in course:\n",
    "\n",
    "✅ Deciding if AI is the right approach for your problem \\\n",
    "✅ Collecting and preparing your data (clean, split, analyze) \\\n",
    "✅ Features transformation (basic) \\\n",
    "✅ Model training and evaluation (for classical ML) \\\n",
    "✅ Visualization"
   ]
  },
  {
   "cell_type": "markdown",
   "metadata": {},
   "source": []
  }
 ],
 "metadata": {
  "language_info": {
   "name": "python"
  }
 },
 "nbformat": 4,
 "nbformat_minor": 2
}
