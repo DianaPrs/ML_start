{
 "cells": [
  {
   "cell_type": "code",
   "execution_count": 1,
   "metadata": {},
   "outputs": [],
   "source": [
    "# Регрессия\n",
    "\n",
    "# Набор факторов -> Конкретное значение\n",
    "\n",
    "# 28 days ago -> 7 days ahead"
   ]
  },
  {
   "cell_type": "code",
   "execution_count": 2,
   "metadata": {},
   "outputs": [],
   "source": [
    "import pandas as pd\n",
    "import sklearn"
   ]
  },
  {
   "cell_type": "code",
   "execution_count": 4,
   "metadata": {},
   "outputs": [],
   "source": [
    "money = pd.read_csv (\"usd_exchange_rate.csv\")"
   ]
  },
  {
   "cell_type": "code",
   "execution_count": 36,
   "metadata": {},
   "outputs": [],
   "source": [
    "def replaceCommaToDot(s):\n",
    "    return float(s.replace(\",\", \".\"))"
   ]
  },
  {
   "cell_type": "code",
   "execution_count": 37,
   "metadata": {},
   "outputs": [],
   "source": [
    "value = money[\"curs\"].apply(replaceCommaToDot)"
   ]
  },
  {
   "cell_type": "code",
   "execution_count": 38,
   "metadata": {},
   "outputs": [],
   "source": [
    "past = 7 * 4\n",
    "future = 7"
   ]
  },
  {
   "cell_type": "code",
   "execution_count": 39,
   "metadata": {},
   "outputs": [
    {
     "data": {
      "text/plain": [
       "0      72.9299\n",
       "1      75.9507\n",
       "2      76.6041\n",
       "3      76.4275\n",
       "4      76.5230\n",
       "        ...   \n",
       "941    63.8600\n",
       "942    63.9966\n",
       "943    63.8700\n",
       "944    63.8320\n",
       "945    63.8734\n",
       "Name: curs, Length: 946, dtype: float64"
      ]
     },
     "execution_count": 39,
     "metadata": {},
     "output_type": "execute_result"
    }
   ],
   "source": [
    "value"
   ]
  },
  {
   "cell_type": "code",
   "execution_count": 40,
   "metadata": {},
   "outputs": [
    {
     "name": "stdout",
     "output_type": "stream",
     "text": [
      "28 939\n"
     ]
    }
   ],
   "source": [
    "start = past\n",
    "end = len(value) - future\n",
    "print(start, end)"
   ]
  },
  {
   "cell_type": "code",
   "execution_count": 41,
   "metadata": {},
   "outputs": [
    {
     "ename": "SyntaxError",
     "evalue": "invalid syntax (<ipython-input-41-f202a1f22505>, line 1)",
     "output_type": "error",
     "traceback": [
      "\u001b[0;36m  File \u001b[0;32m\"<ipython-input-41-f202a1f22505>\"\u001b[0;36m, line \u001b[0;32m1\u001b[0m\n\u001b[0;31m    value[]\u001b[0m\n\u001b[0m          ^\u001b[0m\n\u001b[0;31mSyntaxError\u001b[0m\u001b[0;31m:\u001b[0m invalid syntax\n"
     ]
    }
   ],
   "source": [
    "value[]"
   ]
  },
  {
   "cell_type": "code",
   "execution_count": 42,
   "metadata": {},
   "outputs": [],
   "source": [
    "row_df = []\n",
    "for i in range(start, end):\n",
    "    past_and_future_values = value[(i-past):(i+future)]\n",
    "    row_df.append(list(past_and_future_values))"
   ]
  },
  {
   "cell_type": "code",
   "execution_count": 43,
   "metadata": {},
   "outputs": [],
   "source": [
    "past_columns = [f\"past_{i}\" for i in range(past)]"
   ]
  },
  {
   "cell_type": "code",
   "execution_count": 44,
   "metadata": {},
   "outputs": [],
   "source": [
    "future_columns = [f\"future_{i}\" for i in range(future)]"
   ]
  },
  {
   "cell_type": "code",
   "execution_count": 45,
   "metadata": {},
   "outputs": [],
   "source": [
    "df = pd.DataFrame(row_df, columns=(past_columns+future_columns))"
   ]
  },
  {
   "cell_type": "code",
   "execution_count": 46,
   "metadata": {},
   "outputs": [
    {
     "data": {
      "text/html": [
       "<div>\n",
       "<style scoped>\n",
       "    .dataframe tbody tr th:only-of-type {\n",
       "        vertical-align: middle;\n",
       "    }\n",
       "\n",
       "    .dataframe tbody tr th {\n",
       "        vertical-align: top;\n",
       "    }\n",
       "\n",
       "    .dataframe thead th {\n",
       "        text-align: right;\n",
       "    }\n",
       "</style>\n",
       "<table border=\"1\" class=\"dataframe\">\n",
       "  <thead>\n",
       "    <tr style=\"text-align: right;\">\n",
       "      <th></th>\n",
       "      <th>past_0</th>\n",
       "      <th>past_1</th>\n",
       "      <th>past_2</th>\n",
       "      <th>past_3</th>\n",
       "      <th>past_4</th>\n",
       "      <th>past_5</th>\n",
       "      <th>past_6</th>\n",
       "      <th>past_7</th>\n",
       "      <th>past_8</th>\n",
       "      <th>past_9</th>\n",
       "      <th>...</th>\n",
       "      <th>past_25</th>\n",
       "      <th>past_26</th>\n",
       "      <th>past_27</th>\n",
       "      <th>future_0</th>\n",
       "      <th>future_1</th>\n",
       "      <th>future_2</th>\n",
       "      <th>future_3</th>\n",
       "      <th>future_4</th>\n",
       "      <th>future_5</th>\n",
       "      <th>future_6</th>\n",
       "    </tr>\n",
       "  </thead>\n",
       "  <tbody>\n",
       "    <tr>\n",
       "      <td>0</td>\n",
       "      <td>72.9299</td>\n",
       "      <td>75.9507</td>\n",
       "      <td>76.6041</td>\n",
       "      <td>76.4275</td>\n",
       "      <td>76.5230</td>\n",
       "      <td>76.5650</td>\n",
       "      <td>78.6678</td>\n",
       "      <td>78.4862</td>\n",
       "      <td>79.4614</td>\n",
       "      <td>83.5913</td>\n",
       "      <td>...</td>\n",
       "      <td>79.4951</td>\n",
       "      <td>77.7792</td>\n",
       "      <td>76.2450</td>\n",
       "      <td>77.8503</td>\n",
       "      <td>75.4575</td>\n",
       "      <td>76.3657</td>\n",
       "      <td>77.1326</td>\n",
       "      <td>76.3928</td>\n",
       "      <td>76.3929</td>\n",
       "      <td>75.0903</td>\n",
       "    </tr>\n",
       "    <tr>\n",
       "      <td>1</td>\n",
       "      <td>75.9507</td>\n",
       "      <td>76.6041</td>\n",
       "      <td>76.4275</td>\n",
       "      <td>76.5230</td>\n",
       "      <td>76.5650</td>\n",
       "      <td>78.6678</td>\n",
       "      <td>78.4862</td>\n",
       "      <td>79.4614</td>\n",
       "      <td>83.5913</td>\n",
       "      <td>80.5714</td>\n",
       "      <td>...</td>\n",
       "      <td>77.7792</td>\n",
       "      <td>76.2450</td>\n",
       "      <td>77.8503</td>\n",
       "      <td>75.4575</td>\n",
       "      <td>76.3657</td>\n",
       "      <td>77.1326</td>\n",
       "      <td>76.3928</td>\n",
       "      <td>76.3929</td>\n",
       "      <td>75.0903</td>\n",
       "      <td>75.8994</td>\n",
       "    </tr>\n",
       "    <tr>\n",
       "      <td>2</td>\n",
       "      <td>76.6041</td>\n",
       "      <td>76.4275</td>\n",
       "      <td>76.5230</td>\n",
       "      <td>76.5650</td>\n",
       "      <td>78.6678</td>\n",
       "      <td>78.4862</td>\n",
       "      <td>79.4614</td>\n",
       "      <td>83.5913</td>\n",
       "      <td>80.5714</td>\n",
       "      <td>77.7965</td>\n",
       "      <td>...</td>\n",
       "      <td>76.2450</td>\n",
       "      <td>77.8503</td>\n",
       "      <td>75.4575</td>\n",
       "      <td>76.3657</td>\n",
       "      <td>77.1326</td>\n",
       "      <td>76.3928</td>\n",
       "      <td>76.3929</td>\n",
       "      <td>75.0903</td>\n",
       "      <td>75.8994</td>\n",
       "      <td>74.0536</td>\n",
       "    </tr>\n",
       "    <tr>\n",
       "      <td>3</td>\n",
       "      <td>76.4275</td>\n",
       "      <td>76.5230</td>\n",
       "      <td>76.5650</td>\n",
       "      <td>78.6678</td>\n",
       "      <td>78.4862</td>\n",
       "      <td>79.4614</td>\n",
       "      <td>83.5913</td>\n",
       "      <td>80.5714</td>\n",
       "      <td>77.7965</td>\n",
       "      <td>81.8394</td>\n",
       "      <td>...</td>\n",
       "      <td>77.8503</td>\n",
       "      <td>75.4575</td>\n",
       "      <td>76.3657</td>\n",
       "      <td>77.1326</td>\n",
       "      <td>76.3928</td>\n",
       "      <td>76.3929</td>\n",
       "      <td>75.0903</td>\n",
       "      <td>75.8994</td>\n",
       "      <td>74.0536</td>\n",
       "      <td>73.6256</td>\n",
       "    </tr>\n",
       "    <tr>\n",
       "      <td>4</td>\n",
       "      <td>76.5230</td>\n",
       "      <td>76.5650</td>\n",
       "      <td>78.6678</td>\n",
       "      <td>78.4862</td>\n",
       "      <td>79.4614</td>\n",
       "      <td>83.5913</td>\n",
       "      <td>80.5714</td>\n",
       "      <td>77.7965</td>\n",
       "      <td>81.8394</td>\n",
       "      <td>78.9969</td>\n",
       "      <td>...</td>\n",
       "      <td>75.4575</td>\n",
       "      <td>76.3657</td>\n",
       "      <td>77.1326</td>\n",
       "      <td>76.3928</td>\n",
       "      <td>76.3929</td>\n",
       "      <td>75.0903</td>\n",
       "      <td>75.8994</td>\n",
       "      <td>74.0536</td>\n",
       "      <td>73.6256</td>\n",
       "      <td>73.8242</td>\n",
       "    </tr>\n",
       "    <tr>\n",
       "      <td>...</td>\n",
       "      <td>...</td>\n",
       "      <td>...</td>\n",
       "      <td>...</td>\n",
       "      <td>...</td>\n",
       "      <td>...</td>\n",
       "      <td>...</td>\n",
       "      <td>...</td>\n",
       "      <td>...</td>\n",
       "      <td>...</td>\n",
       "      <td>...</td>\n",
       "      <td>...</td>\n",
       "      <td>...</td>\n",
       "      <td>...</td>\n",
       "      <td>...</td>\n",
       "      <td>...</td>\n",
       "      <td>...</td>\n",
       "      <td>...</td>\n",
       "      <td>...</td>\n",
       "      <td>...</td>\n",
       "      <td>...</td>\n",
       "      <td>...</td>\n",
       "    </tr>\n",
       "    <tr>\n",
       "      <td>906</td>\n",
       "      <td>66.0528</td>\n",
       "      <td>65.9981</td>\n",
       "      <td>65.5698</td>\n",
       "      <td>65.4393</td>\n",
       "      <td>65.4321</td>\n",
       "      <td>65.1909</td>\n",
       "      <td>64.4711</td>\n",
       "      <td>63.8272</td>\n",
       "      <td>64.1213</td>\n",
       "      <td>64.4290</td>\n",
       "      <td>...</td>\n",
       "      <td>64.7416</td>\n",
       "      <td>64.2237</td>\n",
       "      <td>64.3652</td>\n",
       "      <td>64.2548</td>\n",
       "      <td>64.3455</td>\n",
       "      <td>64.0144</td>\n",
       "      <td>63.9542</td>\n",
       "      <td>63.7606</td>\n",
       "      <td>63.6336</td>\n",
       "      <td>63.7997</td>\n",
       "    </tr>\n",
       "    <tr>\n",
       "      <td>907</td>\n",
       "      <td>65.9981</td>\n",
       "      <td>65.5698</td>\n",
       "      <td>65.4393</td>\n",
       "      <td>65.4321</td>\n",
       "      <td>65.1909</td>\n",
       "      <td>64.4711</td>\n",
       "      <td>63.8272</td>\n",
       "      <td>64.1213</td>\n",
       "      <td>64.4290</td>\n",
       "      <td>64.2199</td>\n",
       "      <td>...</td>\n",
       "      <td>64.2237</td>\n",
       "      <td>64.3652</td>\n",
       "      <td>64.2548</td>\n",
       "      <td>64.3455</td>\n",
       "      <td>64.0144</td>\n",
       "      <td>63.9542</td>\n",
       "      <td>63.7606</td>\n",
       "      <td>63.6336</td>\n",
       "      <td>63.7997</td>\n",
       "      <td>63.8600</td>\n",
       "    </tr>\n",
       "    <tr>\n",
       "      <td>908</td>\n",
       "      <td>65.5698</td>\n",
       "      <td>65.4393</td>\n",
       "      <td>65.4321</td>\n",
       "      <td>65.1909</td>\n",
       "      <td>64.4711</td>\n",
       "      <td>63.8272</td>\n",
       "      <td>64.1213</td>\n",
       "      <td>64.4290</td>\n",
       "      <td>64.2199</td>\n",
       "      <td>63.8487</td>\n",
       "      <td>...</td>\n",
       "      <td>64.3652</td>\n",
       "      <td>64.2548</td>\n",
       "      <td>64.3455</td>\n",
       "      <td>64.0144</td>\n",
       "      <td>63.9542</td>\n",
       "      <td>63.7606</td>\n",
       "      <td>63.6336</td>\n",
       "      <td>63.7997</td>\n",
       "      <td>63.8600</td>\n",
       "      <td>63.9966</td>\n",
       "    </tr>\n",
       "    <tr>\n",
       "      <td>909</td>\n",
       "      <td>65.4393</td>\n",
       "      <td>65.4321</td>\n",
       "      <td>65.1909</td>\n",
       "      <td>64.4711</td>\n",
       "      <td>63.8272</td>\n",
       "      <td>64.1213</td>\n",
       "      <td>64.4290</td>\n",
       "      <td>64.2199</td>\n",
       "      <td>63.8487</td>\n",
       "      <td>63.9453</td>\n",
       "      <td>...</td>\n",
       "      <td>64.2548</td>\n",
       "      <td>64.3455</td>\n",
       "      <td>64.0144</td>\n",
       "      <td>63.9542</td>\n",
       "      <td>63.7606</td>\n",
       "      <td>63.6336</td>\n",
       "      <td>63.7997</td>\n",
       "      <td>63.8600</td>\n",
       "      <td>63.9966</td>\n",
       "      <td>63.8700</td>\n",
       "    </tr>\n",
       "    <tr>\n",
       "      <td>910</td>\n",
       "      <td>65.4321</td>\n",
       "      <td>65.1909</td>\n",
       "      <td>64.4711</td>\n",
       "      <td>63.8272</td>\n",
       "      <td>64.1213</td>\n",
       "      <td>64.4290</td>\n",
       "      <td>64.2199</td>\n",
       "      <td>63.8487</td>\n",
       "      <td>63.9453</td>\n",
       "      <td>63.7060</td>\n",
       "      <td>...</td>\n",
       "      <td>64.3455</td>\n",
       "      <td>64.0144</td>\n",
       "      <td>63.9542</td>\n",
       "      <td>63.7606</td>\n",
       "      <td>63.6336</td>\n",
       "      <td>63.7997</td>\n",
       "      <td>63.8600</td>\n",
       "      <td>63.9966</td>\n",
       "      <td>63.8700</td>\n",
       "      <td>63.8320</td>\n",
       "    </tr>\n",
       "  </tbody>\n",
       "</table>\n",
       "<p>911 rows × 35 columns</p>\n",
       "</div>"
      ],
      "text/plain": [
       "      past_0   past_1   past_2   past_3   past_4   past_5   past_6   past_7  \\\n",
       "0    72.9299  75.9507  76.6041  76.4275  76.5230  76.5650  78.6678  78.4862   \n",
       "1    75.9507  76.6041  76.4275  76.5230  76.5650  78.6678  78.4862  79.4614   \n",
       "2    76.6041  76.4275  76.5230  76.5650  78.6678  78.4862  79.4614  83.5913   \n",
       "3    76.4275  76.5230  76.5650  78.6678  78.4862  79.4614  83.5913  80.5714   \n",
       "4    76.5230  76.5650  78.6678  78.4862  79.4614  83.5913  80.5714  77.7965   \n",
       "..       ...      ...      ...      ...      ...      ...      ...      ...   \n",
       "906  66.0528  65.9981  65.5698  65.4393  65.4321  65.1909  64.4711  63.8272   \n",
       "907  65.9981  65.5698  65.4393  65.4321  65.1909  64.4711  63.8272  64.1213   \n",
       "908  65.5698  65.4393  65.4321  65.1909  64.4711  63.8272  64.1213  64.4290   \n",
       "909  65.4393  65.4321  65.1909  64.4711  63.8272  64.1213  64.4290  64.2199   \n",
       "910  65.4321  65.1909  64.4711  63.8272  64.1213  64.4290  64.2199  63.8487   \n",
       "\n",
       "      past_8   past_9  ...  past_25  past_26  past_27  future_0  future_1  \\\n",
       "0    79.4614  83.5913  ...  79.4951  77.7792  76.2450   77.8503   75.4575   \n",
       "1    83.5913  80.5714  ...  77.7792  76.2450  77.8503   75.4575   76.3657   \n",
       "2    80.5714  77.7965  ...  76.2450  77.8503  75.4575   76.3657   77.1326   \n",
       "3    77.7965  81.8394  ...  77.8503  75.4575  76.3657   77.1326   76.3928   \n",
       "4    81.8394  78.9969  ...  75.4575  76.3657  77.1326   76.3928   76.3929   \n",
       "..       ...      ...  ...      ...      ...      ...       ...       ...   \n",
       "906  64.1213  64.4290  ...  64.7416  64.2237  64.3652   64.2548   64.3455   \n",
       "907  64.4290  64.2199  ...  64.2237  64.3652  64.2548   64.3455   64.0144   \n",
       "908  64.2199  63.8487  ...  64.3652  64.2548  64.3455   64.0144   63.9542   \n",
       "909  63.8487  63.9453  ...  64.2548  64.3455  64.0144   63.9542   63.7606   \n",
       "910  63.9453  63.7060  ...  64.3455  64.0144  63.9542   63.7606   63.6336   \n",
       "\n",
       "     future_2  future_3  future_4  future_5  future_6  \n",
       "0     76.3657   77.1326   76.3928   76.3929   75.0903  \n",
       "1     77.1326   76.3928   76.3929   75.0903   75.8994  \n",
       "2     76.3928   76.3929   75.0903   75.8994   74.0536  \n",
       "3     76.3929   75.0903   75.8994   74.0536   73.6256  \n",
       "4     75.0903   75.8994   74.0536   73.6256   73.8242  \n",
       "..        ...       ...       ...       ...       ...  \n",
       "906   64.0144   63.9542   63.7606   63.6336   63.7997  \n",
       "907   63.9542   63.7606   63.6336   63.7997   63.8600  \n",
       "908   63.7606   63.6336   63.7997   63.8600   63.9966  \n",
       "909   63.6336   63.7997   63.8600   63.9966   63.8700  \n",
       "910   63.7997   63.8600   63.9966   63.8700   63.8320  \n",
       "\n",
       "[911 rows x 35 columns]"
      ]
     },
     "execution_count": 46,
     "metadata": {},
     "output_type": "execute_result"
    }
   ],
   "source": [
    "df"
   ]
  },
  {
   "cell_type": "code",
   "execution_count": 47,
   "metadata": {},
   "outputs": [],
   "source": [
    "x = df[past_columns][:-1]\n",
    "y = df[future_columns][:-1]"
   ]
  },
  {
   "cell_type": "code",
   "execution_count": 48,
   "metadata": {},
   "outputs": [],
   "source": [
    "x_test = df[past_columns][-1:]\n",
    "y_test = df[future_columns][-1:]"
   ]
  },
  {
   "cell_type": "code",
   "execution_count": 49,
   "metadata": {},
   "outputs": [],
   "source": [
    "from sklearn.linear_model import LinearRegression\n",
    "import matplotlib.pyplot as plt"
   ]
  },
  {
   "cell_type": "code",
   "execution_count": 50,
   "metadata": {},
   "outputs": [
    {
     "data": {
      "image/png": "[encoded data removed]",
      "text/plain": [
       "<Figure size 432x288 with 1 Axes>"
      ]
     },
     "metadata": {
      "needs_background": "light"
     },
     "output_type": "display_data"
    }
   ],
   "source": [
    "plt.plot(value)\n",
    "plt.show()"
   ]
  },
  {
   "cell_type": "code",
   "execution_count": 51,
   "metadata": {},
   "outputs": [],
   "source": [
    "LinReg = LinearRegression()  #Настройка"
   ]
  },
  {
   "cell_type": "code",
   "execution_count": 54,
   "metadata": {},
   "outputs": [
    {
     "data": {
      "text/plain": [
       "LinearRegression(copy_X=True, fit_intercept=True, n_jobs=None, normalize=False)"
      ]
     },
     "execution_count": 54,
     "metadata": {},
     "output_type": "execute_result"
    }
   ],
   "source": [
    "LinReg.fit(x, y) #Обучение"
   ]
  },
  {
   "cell_type": "code",
   "execution_count": 55,
   "metadata": {},
   "outputs": [],
   "source": [
    "prediction = LinReg.predict(x_test) #Предсказание"
   ]
  },
  {
   "cell_type": "code",
   "execution_count": 56,
   "metadata": {},
   "outputs": [
    {
     "data": {
      "text/plain": [
       "array([[63.90229154, 63.87462141, 63.84695883, 63.93915612, 63.93692321,\n",
       "        63.95379212, 63.8847385 ]])"
      ]
     },
     "execution_count": 56,
     "metadata": {},
     "output_type": "execute_result"
    }
   ],
   "source": [
    "prediction"
   ]
  },
  {
   "cell_type": "code",
   "execution_count": 58,
   "metadata": {},
   "outputs": [
    {
     "data": {
      "image/png": "[encoded data removed]",
      "text/plain": [
       "<Figure size 432x288 with 1 Axes>"
      ]
     },
     "metadata": {
      "needs_background": "light"
     },
     "output_type": "display_data"
    }
   ],
   "source": [
    "plt.plot(prediction[0])\n",
    "plt.show()"
   ]
  },
  {
   "cell_type": "code",
   "execution_count": 59,
   "metadata": {},
   "outputs": [
    {
     "data": {
      "image/png": "[encoded data removed]",
      "text/plain": [
       "<Figure size 432x288 with 1 Axes>"
      ]
     },
     "metadata": {
      "needs_background": "light"
     },
     "output_type": "display_data"
    }
   ],
   "source": [
    "plt.plot(y_test.iloc[0])\n",
    "plt.show()"
   ]
  },
  {
   "cell_type": "code",
   "execution_count": 60,
   "metadata": {},
   "outputs": [
    {
     "data": {
      "image/png": "[encoded data removed]",
      "text/plain": [
       "<Figure size 432x288 with 1 Axes>"
      ]
     },
     "metadata": {
      "needs_background": "light"
     },
     "output_type": "display_data"
    }
   ],
   "source": [
    "plt.plot(prediction[0], label=\"prediction\")\n",
    "plt.plot(y_test.iloc[0], label=\"real\")\n",
    "plt.show()"
   ]
  },
  {
   "cell_type": "code",
   "execution_count": 64,
   "metadata": {},
   "outputs": [],
   "source": [
    "from sklearn.metrics import mean_absolute_error, mean_squared_error"
   ]
  },
  {
   "cell_type": "code",
   "execution_count": 66,
   "metadata": {},
   "outputs": [
    {
     "data": {
      "text/plain": [
       "0.10076218757688947"
      ]
     },
     "execution_count": 66,
     "metadata": {},
     "output_type": "execute_result"
    }
   ],
   "source": [
    "mean_absolute_error(y_test, prediction)"
   ]
  },
  {
   "cell_type": "code",
   "execution_count": 68,
   "metadata": {},
   "outputs": [
    {
     "data": {
      "text/plain": [
       "0.01429009869552723"
      ]
     },
     "execution_count": 68,
     "metadata": {},
     "output_type": "execute_result"
    }
   ],
   "source": [
    "mean_squared_error(y_test, prediction)"
   ]
  },
  {
   "cell_type": "code",
   "execution_count": 1,
   "metadata": {},
   "outputs": [],
   "source": [
    "#Grid\n"
   ]
  },
  {
   "cell_type": "code",
   "execution_count": 2,
   "metadata": {},
   "outputs": [],
   "source": [
    "from sklearn.model_selection import GridSearchCV"
   ]
  },
  {
   "cell_type": "code",
   "execution_count": 3,
   "metadata": {},
   "outputs": [
    {
     "ename": "NameError",
     "evalue": "name 'MLPRegressor' is not defined",
     "output_type": "error",
     "traceback": [
      "\u001b[0;31m---------------------------------------------------------------------------\u001b[0m",
      "\u001b[0;31mNameError\u001b[0m                                 Traceback (most recent call last)",
      "\u001b[0;32m<ipython-input-3-1b57f3f4fdad>\u001b[0m in \u001b[0;36m<module>\u001b[0;34m\u001b[0m\n\u001b[0;32m----> 1\u001b[0;31m \u001b[0mMLPRegressor\u001b[0m\u001b[0;34m(\u001b[0m\u001b[0;34m)\u001b[0m\u001b[0;34m\u001b[0m\u001b[0;34m\u001b[0m\u001b[0m\n\u001b[0m",
      "\u001b[0;31mNameError\u001b[0m: name 'MLPRegressor' is not defined"
     ]
    }
   ],
   "source": [
    "MLPRegressor()"
   ]
  },
  {
   "cell_type": "code",
   "execution_count": null,
   "metadata": {},
   "outputs": [],
   "source": [
    "\n",
    "\n",
    "MLP2 = MLPRegressor()\n",
    "\n",
    "grid_search = GridSearchCV(MLP2, {activation: [], alpha: []})"
   ]
  }
 ],
 "metadata": {
  "kernelspec": {
   "display_name": "Python 3",
   "language": "python",
   "name": "python3"
  },
  "language_info": {
   "codemirror_mode": {
    "name": "ipython",
    "version": 3
   },
   "file_extension": ".py",
   "mimetype": "text/x-python",
   "name": "python",
   "nbconvert_exporter": "python",
   "pygments_lexer": "ipython3",
   "version": "3.7.3"
  }
 },
 "nbformat": 4,
 "nbformat_minor": 2
}
